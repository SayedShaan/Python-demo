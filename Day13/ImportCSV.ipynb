{
 "cells": [
  {
   "cell_type": "markdown",
   "id": "b209c6de-c1be-44fb-a859-02239c442523",
   "metadata": {},
   "source": [
    "Import CSV "
   ]
  },
  {
   "cell_type": "code",
   "execution_count": 10,
   "id": "3b15a88a-ba56-4257-8309-17b9ea34b4ae",
   "metadata": {},
   "outputs": [
    {
     "name": "stdout",
     "output_type": "stream",
     "text": [
      "['1', 'sameer', '45000', 'hr', 'mumbai']\n",
      "['3', 'Hitesh', '65000', 'hr', 'mumbai']\n",
      "['5', 'jayesh', '75000', 'sales', 'mumbai']\n"
     ]
    }
   ],
   "source": [
    "import csv\n",
    "with open(\"employee_detail.csv\",\"r\") as f:\n",
    "    data=csv.reader(f)\n",
    "    \n",
    "    for i in data:\n",
    "       if(i[4]==\"mumbai\"):\n",
    "           print(i)\n",
    "s=open(\"employee_detail.csv\",\"r\")\n",
    "s.close()"
   ]
  }
 ],
 "metadata": {
  "kernelspec": {
   "display_name": "Python 3 (ipykernel)",
   "language": "python",
   "name": "python3"
  },
  "language_info": {
   "codemirror_mode": {
    "name": "ipython",
    "version": 3
   },
   "file_extension": ".py",
   "mimetype": "text/x-python",
   "name": "python",
   "nbconvert_exporter": "python",
   "pygments_lexer": "ipython3",
   "version": "3.12.4"
  }
 },
 "nbformat": 4,
 "nbformat_minor": 5
}
