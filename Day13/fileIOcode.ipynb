{
 "cells": [
  {
   "cell_type": "markdown",
   "id": "c2997dd0-8ee3-49da-bc89-0c0024c48b4e",
   "metadata": {
    "panel-layout": {
     "height": 51.140625,
     "visible": true,
     "width": 100
    }
   },
   "source": [
    "File IO Code"
   ]
  },
  {
   "cell_type": "code",
   "execution_count": 7,
   "id": "1e8a15e7-2566-4aba-a641-f14c759ccb0e",
   "metadata": {},
   "outputs": [
    {
     "name": "stdout",
     "output_type": "stream",
     "text": [
      "['1', 'sameer', '45000', 'hr', 'mumbai\\n']\n",
      "['3', 'Hitesh', '65000', 'hr', 'mumbai\\n']\n",
      "['5', 'jayesh', '75000', 'sales', 'mumbai\\n']\n"
     ]
    }
   ],
   "source": [
    "data=[]\n",
    "\n",
    "file=open(\"employee_detail.csv\",\"r\")\n",
    "data=file.readlines()\n",
    "\n",
    "for i in data:\n",
    "    employee=i.split(\",\")\n",
    " \n",
    "    if(employee[4].rstrip(\"\\n\")==\"mumbai\"):\n",
    "        print(employee)\n",
    "\n"
   ]
  }
 ],
 "metadata": {
  "kernelspec": {
   "display_name": "Python 3 (ipykernel)",
   "language": "python",
   "name": "python3"
  },
  "language_info": {
   "codemirror_mode": {
    "name": "ipython",
    "version": 3
   },
   "file_extension": ".py",
   "mimetype": "text/x-python",
   "name": "python",
   "nbconvert_exporter": "python",
   "pygments_lexer": "ipython3",
   "version": "3.12.4"
  },
  "panel-cell-order": [
   "c2997dd0-8ee3-49da-bc89-0c0024c48b4e"
  ]
 },
 "nbformat": 4,
 "nbformat_minor": 5
}
