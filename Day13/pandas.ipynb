{
 "cells": [
  {
   "cell_type": "markdown",
   "id": "b16149da-81c1-498d-a5da-b67724200e55",
   "metadata": {},
   "source": [
    "PANDS LIB"
   ]
  },
  {
   "cell_type": "code",
   "execution_count": 2,
   "id": "e0ef119c-b759-40d4-b4de-c1db6e42f46b",
   "metadata": {},
   "outputs": [
    {
     "data": {
      "text/html": [
       "<div>\n",
       "<style scoped>\n",
       "    .dataframe tbody tr th:only-of-type {\n",
       "        vertical-align: middle;\n",
       "    }\n",
       "\n",
       "    .dataframe tbody tr th {\n",
       "        vertical-align: top;\n",
       "    }\n",
       "\n",
       "    .dataframe thead th {\n",
       "        text-align: right;\n",
       "    }\n",
       "</style>\n",
       "<table border=\"1\" class=\"dataframe\">\n",
       "  <thead>\n",
       "    <tr style=\"text-align: right;\">\n",
       "      <th></th>\n",
       "      <th>employeeid</th>\n",
       "      <th>emaployeename</th>\n",
       "      <th>salary</th>\n",
       "      <th>department</th>\n",
       "      <th>branch</th>\n",
       "    </tr>\n",
       "  </thead>\n",
       "  <tbody>\n",
       "    <tr>\n",
       "      <th>0</th>\n",
       "      <td>1</td>\n",
       "      <td>sameer</td>\n",
       "      <td>45000</td>\n",
       "      <td>hr</td>\n",
       "      <td>mumbai</td>\n",
       "    </tr>\n",
       "    <tr>\n",
       "      <th>1</th>\n",
       "      <td>2</td>\n",
       "      <td>Ramesh</td>\n",
       "      <td>35000</td>\n",
       "      <td>admin</td>\n",
       "      <td>delhi</td>\n",
       "    </tr>\n",
       "    <tr>\n",
       "      <th>2</th>\n",
       "      <td>3</td>\n",
       "      <td>Hitesh</td>\n",
       "      <td>65000</td>\n",
       "      <td>hr</td>\n",
       "      <td>mumbai</td>\n",
       "    </tr>\n",
       "    <tr>\n",
       "      <th>3</th>\n",
       "      <td>4</td>\n",
       "      <td>nitesh</td>\n",
       "      <td>95000</td>\n",
       "      <td>sales</td>\n",
       "      <td>bangalore</td>\n",
       "    </tr>\n",
       "    <tr>\n",
       "      <th>4</th>\n",
       "      <td>5</td>\n",
       "      <td>jayesh</td>\n",
       "      <td>75000</td>\n",
       "      <td>sales</td>\n",
       "      <td>mumbai</td>\n",
       "    </tr>\n",
       "  </tbody>\n",
       "</table>\n",
       "</div>"
      ],
      "text/plain": [
       "   employeeid emaployeename  salary department     branch\n",
       "0           1        sameer   45000         hr     mumbai\n",
       "1           2        Ramesh   35000      admin      delhi\n",
       "2           3        Hitesh   65000         hr     mumbai\n",
       "3           4        nitesh   95000      sales  bangalore\n",
       "4           5        jayesh   75000      sales     mumbai"
      ]
     },
     "execution_count": 2,
     "metadata": {},
     "output_type": "execute_result"
    }
   ],
   "source": [
    "import pandas as pd\n",
    "#Dataframe\n",
    "df=pd.read_csv(\"employee_detail.csv\")\n",
    "df\n",
    "\n"
   ]
  },
  {
   "cell_type": "code",
   "execution_count": 3,
   "id": "d26eb905-6de3-4f8c-b62a-941d3672c7fe",
   "metadata": {},
   "outputs": [
    {
     "data": {
      "text/plain": [
       "0       mumbai\n",
       "1        delhi\n",
       "2       mumbai\n",
       "3    bangalore\n",
       "4       mumbai\n",
       "Name: branch, dtype: object"
      ]
     },
     "execution_count": 3,
     "metadata": {},
     "output_type": "execute_result"
    }
   ],
   "source": [
    "import pandas as pd\n",
    "#Dataframe\n",
    "df=pd.read_csv(\"employee_detail.csv\")\n",
    "df[\"branch\"]\n",
    "\n",
    "\n"
   ]
  },
  {
   "cell_type": "code",
   "execution_count": 7,
   "id": "d7be0210-0cc6-4376-8ff5-c3d102beb4a1",
   "metadata": {},
   "outputs": [
    {
     "data": {
      "text/plain": [
       "0       mumbai\n",
       "1        delhi\n",
       "2       mumbai\n",
       "3    bangalore\n",
       "4       mumbai\n",
       "Name: branch, dtype: object"
      ]
     },
     "execution_count": 7,
     "metadata": {},
     "output_type": "execute_result"
    }
   ],
   "source": [
    "import pandas as pd\n",
    "#Dataframe\n",
    "df=pd.read_csv(\"employee_detail.csv\")\n",
    "df.branch\n",
    "\n"
   ]
  },
  {
   "cell_type": "code",
   "execution_count": 20,
   "id": "96059af5-5658-42da-94bd-1b67d2dba50b",
   "metadata": {},
   "outputs": [
    {
     "data": {
      "text/html": [
       "<div>\n",
       "<style scoped>\n",
       "    .dataframe tbody tr th:only-of-type {\n",
       "        vertical-align: middle;\n",
       "    }\n",
       "\n",
       "    .dataframe tbody tr th {\n",
       "        vertical-align: top;\n",
       "    }\n",
       "\n",
       "    .dataframe thead th {\n",
       "        text-align: right;\n",
       "    }\n",
       "</style>\n",
       "<table border=\"1\" class=\"dataframe\">\n",
       "  <thead>\n",
       "    <tr style=\"text-align: right;\">\n",
       "      <th></th>\n",
       "      <th>employeeid</th>\n",
       "      <th>emaployeename</th>\n",
       "      <th>salary</th>\n",
       "      <th>department</th>\n",
       "      <th>branch</th>\n",
       "    </tr>\n",
       "  </thead>\n",
       "  <tbody>\n",
       "    <tr>\n",
       "      <th>0</th>\n",
       "      <td>1</td>\n",
       "      <td>sameer</td>\n",
       "      <td>45000</td>\n",
       "      <td>hr</td>\n",
       "      <td>mumbai</td>\n",
       "    </tr>\n",
       "    <tr>\n",
       "      <th>2</th>\n",
       "      <td>3</td>\n",
       "      <td>Hitesh</td>\n",
       "      <td>65000</td>\n",
       "      <td>hr</td>\n",
       "      <td>mumbai</td>\n",
       "    </tr>\n",
       "    <tr>\n",
       "      <th>4</th>\n",
       "      <td>5</td>\n",
       "      <td>jayesh</td>\n",
       "      <td>75000</td>\n",
       "      <td>sales</td>\n",
       "      <td>mumbai</td>\n",
       "    </tr>\n",
       "  </tbody>\n",
       "</table>\n",
       "</div>"
      ],
      "text/plain": [
       "   employeeid emaployeename  salary department  branch\n",
       "0           1        sameer   45000         hr  mumbai\n",
       "2           3        Hitesh   65000         hr  mumbai\n",
       "4           5        jayesh   75000      sales  mumbai"
      ]
     },
     "execution_count": 20,
     "metadata": {},
     "output_type": "execute_result"
    }
   ],
   "source": [
    "import pandas as pd\n",
    "#Dataframe\n",
    "df=pd.read_csv(\"employee_detail.csv\")\n",
    "df[df[\"branch\"]==\"mumbai\"]\n"
   ]
  },
  {
   "cell_type": "code",
   "execution_count": 2,
   "id": "27e60757-bd27-4188-948e-71f24c065bc0",
   "metadata": {},
   "outputs": [],
   "source": [
    "import pandas as pd\n",
    "df=pd.read_csv(\"employee_detail.csv\")\n",
    "# Retrieve multiple columns\n",
    "df=[[\"employeeid\", \"employeename\"]] \n"
   ]
  },
  {
   "cell_type": "code",
   "execution_count": null,
   "id": "86973e1e-e1cd-4cd8-897e-bf627d3045b3",
   "metadata": {},
   "outputs": [],
   "source": []
  }
 ],
 "metadata": {
  "kernelspec": {
   "display_name": "Python 3 (ipykernel)",
   "language": "python",
   "name": "python3"
  },
  "language_info": {
   "codemirror_mode": {
    "name": "ipython",
    "version": 3
   },
   "file_extension": ".py",
   "mimetype": "text/x-python",
   "name": "python",
   "nbconvert_exporter": "python",
   "pygments_lexer": "ipython3",
   "version": "3.12.4"
  }
 },
 "nbformat": 4,
 "nbformat_minor": 5
}
